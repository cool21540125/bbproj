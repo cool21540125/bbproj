{
 "cells": [
  {
   "cell_type": "code",
   "execution_count": 1,
   "metadata": {
    "collapsed": true
   },
   "outputs": [],
   "source": [
    "import configparser\n",
    "import pymysql\n",
    "import sqlite3\n",
    "\n",
    "# import hashlib\n",
    "# from sqlalchemy import create_engine\n",
    "# from sqlalchemy import Column, Integer, String\n",
    "# from sqlalchemy.ext.declarative import declarative_base\n",
    "# from sqlalchemy import ForeignKey\n",
    "# from sqlalchemy.orm import relationship, backref"
   ]
  },
  {
   "cell_type": "markdown",
   "metadata": {},
   "source": [
    "## 讀入組態設定"
   ]
  },
  {
   "cell_type": "code",
   "execution_count": 1,
   "metadata": {
    "scrolled": true
   },
   "outputs": [
    {
     "ename": "NameError",
     "evalue": "name 'configparser' is not defined",
     "output_type": "error",
     "traceback": [
      "\u001b[1;31m---------------------------------------------------------------------------\u001b[0m",
      "\u001b[1;31mNameError\u001b[0m                                 Traceback (most recent call last)",
      "\u001b[1;32m<ipython-input-1-ddd7bcba8a48>\u001b[0m in \u001b[0;36m<module>\u001b[1;34m()\u001b[0m\n\u001b[1;32m----> 1\u001b[1;33m \u001b[0mconfig\u001b[0m \u001b[1;33m=\u001b[0m \u001b[0mconfigparser\u001b[0m\u001b[1;33m.\u001b[0m\u001b[0mConfigParser\u001b[0m\u001b[1;33m(\u001b[0m\u001b[1;33m)\u001b[0m\u001b[1;33m\u001b[0m\u001b[0m\n\u001b[0m\u001b[0;32m      2\u001b[0m \u001b[0mconfig\u001b[0m\u001b[1;33m.\u001b[0m\u001b[0mread\u001b[0m\u001b[1;33m(\u001b[0m\u001b[1;34m'mysql.ini'\u001b[0m\u001b[1;33m)\u001b[0m\u001b[1;33m\u001b[0m\u001b[0m\n\u001b[0;32m      3\u001b[0m \u001b[1;33m\u001b[0m\u001b[0m\n\u001b[0;32m      4\u001b[0m \u001b[0mdbhost\u001b[0m \u001b[1;33m=\u001b[0m \u001b[0mconfig\u001b[0m\u001b[1;33m.\u001b[0m\u001b[0mget\u001b[0m\u001b[1;33m(\u001b[0m\u001b[1;34m'Section_A'\u001b[0m\u001b[1;33m,\u001b[0m \u001b[1;34m'sql_dbhost'\u001b[0m\u001b[1;33m)\u001b[0m\u001b[1;33m\u001b[0m\u001b[0m\n\u001b[0;32m      5\u001b[0m \u001b[0mpport\u001b[0m \u001b[1;33m=\u001b[0m \u001b[0mconfig\u001b[0m\u001b[1;33m.\u001b[0m\u001b[0mget\u001b[0m\u001b[1;33m(\u001b[0m\u001b[1;34m'Section_A'\u001b[0m\u001b[1;33m,\u001b[0m \u001b[1;34m'sql_pport'\u001b[0m\u001b[1;33m)\u001b[0m\u001b[1;33m\u001b[0m\u001b[0m\n",
      "\u001b[1;31mNameError\u001b[0m: name 'configparser' is not defined"
     ]
    }
   ],
   "source": [
    "import configparser\n",
    "config = configparser.ConfigParser()\n",
    "config.read('mysql.ini')\n",
    "\n",
    "dbhost = config.get('Section_A', 'sql_dbhost')\n",
    "pport = config.get('Section_A', 'sql_pport')\n",
    "user = config.get('Section_A', 'sql_id')\n",
    "passwd = config.get('Section_A', 'sql_pd')"
   ]
  },
  {
   "cell_type": "markdown",
   "metadata": {},
   "source": [
    "## 建立mySQL資料庫\n",
    " - database : house\n",
    " - table : rental"
   ]
  },
  {
   "cell_type": "code",
   "execution_count": 33,
   "metadata": {
    "collapsed": true
   },
   "outputs": [],
   "source": [
    "# conn = pymysql.connect(host = dbhost,  user = user, password = passwd, db = 'house')\n",
    "# c = conn.cursor()\n",
    "# create_qry = \"\"\"\n",
    "# CREATE TABLE rental(\n",
    "#     `url` varchar(100) UNIQUE,\n",
    "#     `ttype` char(1),\n",
    "#     `avg_rent` int,\n",
    "#     `lat` decimal(12, 8),\n",
    "#     `lng` decimal(12, 8),\n",
    "#     `w97x` decimal(9, 4),\n",
    "#     `w97y` decimal(10, 4),\n",
    "#     `sex` char(1),\n",
    "#     `space` decimal(5, 2),\n",
    "#     `smoke` bool, \n",
    "#     `pet` bool,\n",
    "#     `cook` bool,\n",
    "#     `parking` bool\n",
    "# );\n",
    "# \"\"\"\n",
    "# c.execute(create_qry)\n",
    "# c.close()\n",
    "# conn.close"
   ]
  },
  {
   "cell_type": "markdown",
   "metadata": {},
   "source": [
    "### PyMySQL MySQL版本"
   ]
  },
  {
   "cell_type": "code",
   "execution_count": 13,
   "metadata": {},
   "outputs": [
    {
     "name": "stdout",
     "output_type": "stream",
     "text": [
      "DB version:('5.7.18-log',)\n"
     ]
    }
   ],
   "source": [
    "db = pymysql.connect(dbhost, user, passwd, 'house')\n",
    "c = db.cursor()\n",
    "c.execute('select version()')\n",
    "data = c.fetchone()\n",
    "print(\"DB version:{}\".format(data))\n",
    "db.close()"
   ]
  },
  {
   "cell_type": "markdown",
   "metadata": {},
   "source": [
    "### insert"
   ]
  },
  {
   "cell_type": "code",
   "execution_count": null,
   "metadata": {
    "collapsed": true
   },
   "outputs": [],
   "source": [
    "db = pymysql.connect(dbhost, user, passwd, 'house')\n",
    "c = db.cursor()\n",
    "c.execute('select version()')\n",
    "data = c.fetchone()\n",
    "print(\"DB version:{}\".format(data))\n",
    "db.close()"
   ]
  }
 ],
 "metadata": {
  "kernelspec": {
   "display_name": "Python 3",
   "language": "python",
   "name": "python3"
  },
  "language_info": {
   "codemirror_mode": {
    "name": "ipython",
    "version": 3
   },
   "file_extension": ".py",
   "mimetype": "text/x-python",
   "name": "python",
   "nbconvert_exporter": "python",
   "pygments_lexer": "ipython3",
   "version": "3.5.2"
  }
 },
 "nbformat": 4,
 "nbformat_minor": 2
}
